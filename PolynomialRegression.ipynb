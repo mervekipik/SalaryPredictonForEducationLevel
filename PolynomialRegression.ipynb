{
 "cells": [
  {
   "cell_type": "code",
   "execution_count": null,
   "id": "9b829fe5",
   "metadata": {},
   "outputs": [],
   "source": [
    "#Polinomiyal regresyon, \n",
    "#veriye daha iyi uyum sağlayabilecek ve karmaşık ilişkileri modelleyebilecek daha esnek bir model sunar. \n",
    "#Polinomiyal regresyon, bağımsız değişkenin daha yüksek dereceli terimlerini (kare, küp, vs.) \n",
    "#içerecek şekilde genişletir."
   ]
  },
  {
   "cell_type": "code",
   "execution_count": 1,
   "id": "4de2f6ee",
   "metadata": {},
   "outputs": [],
   "source": [
    "\n",
    "#1.kutuphaneler\n",
    "import numpy as np\n",
    "import matplotlib.pyplot as plt\n",
    "import pandas as pd\n",
    "\n"
   ]
  },
  {
   "cell_type": "code",
   "execution_count": 5,
   "id": "17a408f3",
   "metadata": {},
   "outputs": [
    {
     "data": {
      "text/html": [
       "<div>\n",
       "<style scoped>\n",
       "    .dataframe tbody tr th:only-of-type {\n",
       "        vertical-align: middle;\n",
       "    }\n",
       "\n",
       "    .dataframe tbody tr th {\n",
       "        vertical-align: top;\n",
       "    }\n",
       "\n",
       "    .dataframe thead th {\n",
       "        text-align: right;\n",
       "    }\n",
       "</style>\n",
       "<table border=\"1\" class=\"dataframe\">\n",
       "  <thead>\n",
       "    <tr style=\"text-align: right;\">\n",
       "      <th></th>\n",
       "      <th>unvan</th>\n",
       "      <th>Egitim Seviyesi</th>\n",
       "      <th>maas</th>\n",
       "    </tr>\n",
       "  </thead>\n",
       "  <tbody>\n",
       "    <tr>\n",
       "      <th>0</th>\n",
       "      <td>Cayci</td>\n",
       "      <td>1</td>\n",
       "      <td>2250</td>\n",
       "    </tr>\n",
       "    <tr>\n",
       "      <th>1</th>\n",
       "      <td>Sekreter</td>\n",
       "      <td>2</td>\n",
       "      <td>2500</td>\n",
       "    </tr>\n",
       "    <tr>\n",
       "      <th>2</th>\n",
       "      <td>Uzman Yardimcisi</td>\n",
       "      <td>3</td>\n",
       "      <td>3000</td>\n",
       "    </tr>\n",
       "    <tr>\n",
       "      <th>3</th>\n",
       "      <td>Uzman</td>\n",
       "      <td>4</td>\n",
       "      <td>4000</td>\n",
       "    </tr>\n",
       "    <tr>\n",
       "      <th>4</th>\n",
       "      <td>Proje Yoneticisi</td>\n",
       "      <td>5</td>\n",
       "      <td>5500</td>\n",
       "    </tr>\n",
       "  </tbody>\n",
       "</table>\n",
       "</div>"
      ],
      "text/plain": [
       "              unvan  Egitim Seviyesi  maas\n",
       "0             Cayci                1  2250\n",
       "1          Sekreter                2  2500\n",
       "2  Uzman Yardimcisi                3  3000\n",
       "3             Uzman                4  4000\n",
       "4  Proje Yoneticisi                5  5500"
      ]
     },
     "execution_count": 5,
     "metadata": {},
     "output_type": "execute_result"
    }
   ],
   "source": [
    "# veri yukleme\n",
    "veriler = pd.read_csv('maaslar.csv')\n",
    "veriler.head()"
   ]
  },
  {
   "cell_type": "code",
   "execution_count": 6,
   "id": "4225d454",
   "metadata": {},
   "outputs": [],
   "source": [
    "# X ve Y değişkenlerini ayarlayalım\n",
    "X = veriler[['Egitim Seviyesi']] #iki köşe kullanma sebebi df olarak dondurup girdi değeridir\n",
    "Y = veriler['maas'] # tek köşe seri olarak dödürür. Target değişken olduğunu belirtir."
   ]
  },
  {
   "cell_type": "code",
   "execution_count": 7,
   "id": "fd4ca28f",
   "metadata": {},
   "outputs": [
    {
     "data": {
      "text/plain": [
       "LinearRegression()"
      ]
     },
     "execution_count": 7,
     "metadata": {},
     "output_type": "execute_result"
    }
   ],
   "source": [
    "#linear regression\n",
    "from sklearn.linear_model import LinearRegression\n",
    "lin_reg = LinearRegression()\n",
    "lin_reg.fit(X,Y)"
   ]
  },
  {
   "cell_type": "code",
   "execution_count": 9,
   "id": "3e878d64",
   "metadata": {},
   "outputs": [
    {
     "data": {
      "image/png": "[encoded data removed]",
      "text/plain": [
       "<Figure size 432x288 with 1 Axes>"
      ]
     },
     "metadata": {
      "needs_background": "light"
     },
     "output_type": "display_data"
    }
   ],
   "source": [
    "# X_plot'u DataFrame olarak dönüştürme ve 'Egitim Seviyesi' olarak sütun ismi verme\n",
    "X_plot_df = pd.DataFrame(X_plot, columns=['Egitim Seviyesi'])\n",
    "Y_pred = lin_reg.predict(X_plot_df)\n",
    "\n",
    "# Gerçek veri noktalarını ve regresyon çizgisini çizdirme\n",
    "plt.scatter(X, Y, color='red')\n",
    "plt.plot(X_plot, Y_pred, color='blue')\n",
    "plt.title('Eğitim Seviyesine Göre Maaş Tahmini')\n",
    "plt.xlabel('Eğitim Seviyesi')\n",
    "plt.ylabel('Maaş')\n",
    "plt.show()"
   ]
  },
  {
   "cell_type": "code",
   "execution_count": 10,
   "id": "b7274c82",
   "metadata": {},
   "outputs": [
    {
     "name": "stdout",
     "output_type": "stream",
     "text": [
      "[[  1.   1.   1.]\n",
      " [  1.   2.   4.]\n",
      " [  1.   3.   9.]\n",
      " [  1.   4.  16.]\n",
      " [  1.   5.  25.]\n",
      " [  1.   6.  36.]\n",
      " [  1.   7.  49.]\n",
      " [  1.   8.  64.]\n",
      " [  1.   9.  81.]\n",
      " [  1.  10. 100.]]\n"
     ]
    }
   ],
   "source": [
    "#polynomial regression\n",
    "from sklearn.preprocessing import PolynomialFeatures\n",
    "\n",
    "# 2. derece polinomiyal özellikler\n",
    "poly_reg = PolynomialFeatures(degree = 2)\n",
    "x_poly = poly_reg.fit_transform(X)\n",
    "print(x_poly)"
   ]
  },
  {
   "cell_type": "code",
   "execution_count": 11,
   "id": "4ade3c84",
   "metadata": {},
   "outputs": [
    {
     "data": {
      "text/plain": [
       "LinearRegression()"
      ]
     },
     "execution_count": 11,
     "metadata": {},
     "output_type": "execute_result"
    }
   ],
   "source": [
    "# Polinomiyal regresyon modeli oluşturma ve eğitme\n",
    "lin_reg2 = LinearRegression()\n",
    "lin_reg2.fit(x_poly,y)"
   ]
  },
  {
   "cell_type": "code",
   "execution_count": 13,
   "id": "cadd5c28",
   "metadata": {},
   "outputs": [],
   "source": [
    "# Polinomiyal regresyon çizgisi için tahminler\n",
    "X_plot_poly = poly_reg.transform(X_plot_df)\n",
    "Y_pred_poly = lin_reg2.predict(X_plot_poly)"
   ]
  },
  {
   "cell_type": "code",
   "execution_count": 14,
   "id": "df0b2339",
   "metadata": {},
   "outputs": [
    {
     "data": {
      "image/png": "[encoded data removed]",
      "text/plain": [
       "<Figure size 432x288 with 1 Axes>"
      ]
     },
     "metadata": {
      "needs_background": "light"
     },
     "output_type": "display_data"
    }
   ],
   "source": [
    "# Polinomiyal regresyon sonuçlarını çizdirme\n",
    "plt.scatter(X, Y, color='red')\n",
    "plt.plot(X_plot, Y_pred_poly, color='blue')\n",
    "plt.title('Polinomiyal Regresyon (2. Derece)')\n",
    "plt.xlabel('Eğitim Seviyesi')\n",
    "plt.ylabel('Maaş')\n",
    "plt.show()"
   ]
  },
  {
   "cell_type": "code",
   "execution_count": 20,
   "id": "4f7b0de4",
   "metadata": {},
   "outputs": [
    {
     "name": "stdout",
     "output_type": "stream",
     "text": [
      "[34716.66666667]\n",
      "[16923.33333333]\n",
      "[[10083.33333333]]\n",
      "[[56091.66666667]]\n"
     ]
    },
    {
     "name": "stderr",
     "output_type": "stream",
     "text": [
      "/Users/macbookpro/opt/anaconda3/lib/python3.9/site-packages/sklearn/base.py:450: UserWarning: X does not have valid feature names, but LinearRegression was fitted with feature names\n",
      "  warnings.warn(\n",
      "/Users/macbookpro/opt/anaconda3/lib/python3.9/site-packages/sklearn/base.py:450: UserWarning: X does not have valid feature names, but LinearRegression was fitted with feature names\n",
      "  warnings.warn(\n"
     ]
    }
   ],
   "source": [
    "# Lineer regresyon modeli için tahminler\n",
    "print(lin_reg.predict([[11]]))\n",
    "print(lin_reg.predict([[6.6]]))\n",
    "\n",
    "# Polinomiyal regresyon modeli için tahminler\n",
    "print(lin_reg2.predict(poly_reg.transform([[6.6]])))\n",
    "print(lin_reg2.predict(poly_reg.transform([[11]])))\n",
    "#pd ye çevirmeni istiyor hata verdi"
   ]
  },
  {
   "cell_type": "code",
   "execution_count": null,
   "id": "5fe4dacf",
   "metadata": {},
   "outputs": [],
   "source": [
    "#Doğrusal Regrasyonda\n",
    "#eğitim seviyesi 11 olduğunda taahmini maaş 34.716 TL \n",
    "#eğitim seviyesi 6,6 olduğunda taahmini maaş 16.293 TL \n",
    "\n",
    "#Polinomiyal Regrasyonda\n",
    "#eğitim seviyesi 11 olduğunda taahmini maaş 10.083 TL \n",
    "#eğitim seviyesi 6,6 olduğunda taahmini maaş 56.091 TL "
   ]
  },
  {
   "cell_type": "code",
   "execution_count": null,
   "id": "3b1fbaaa",
   "metadata": {},
   "outputs": [],
   "source": []
  }
 ],
 "metadata": {
  "kernelspec": {
   "display_name": "Python 3 (ipykernel)",
   "language": "python",
   "name": "python3"
  },
  "language_info": {
   "codemirror_mode": {
    "name": "ipython",
    "version": 3
   },
   "file_extension": ".py",
   "mimetype": "text/x-python",
   "name": "python",
   "nbconvert_exporter": "python",
   "pygments_lexer": "ipython3",
   "version": "3.9.12"
  }
 },
 "nbformat": 4,
 "nbformat_minor": 5
}
